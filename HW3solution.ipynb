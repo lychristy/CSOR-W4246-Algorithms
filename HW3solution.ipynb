{
 "cells": [
  {
   "cell_type": "markdown",
   "metadata": {},
   "source": [
    "# Max Flow Applications\n",
    "\n",
    "The purpose of this assignment is to investigate applications of finding a Max Flow. The problem asks you to design and implement an algorithm for shipping a material between nodes with different supply and demand requirements."
   ]
  },
  {
   "cell_type": "markdown",
   "metadata": {},
   "source": [
    "## Movie distribution\n",
    "\n",
    "First solve Problem 3 from HW3-theoretical. \n",
    "\n",
    "Now suppose a movie distributor would like to ship a copy of a film from CA to every other state. There are therefore 48 units to ship out of CA, and each other state receives 1 unit. \n",
    "\n",
    "The dataset contiguous-usa.dat lists the adjacent states in the US. Each line lists two adjacent states; thus AK and HI are omitted, but DC is included in the data. The following code reads in the graph of US states."
   ]
  },
  {
   "cell_type": "code",
   "execution_count": 19,
   "metadata": {
    "collapsed": true
   },
   "outputs": [],
   "source": [
    "import networkx as nx\n",
    "G = nx.Graph()\n",
    "\n",
    "usa = open('contiguous-usa.dat')\n",
    "for line in usa:\n",
    "    s1, s2 = line.strip().split()\n",
    "    G.add_edge(s1, s2)"
   ]
  },
  {
   "cell_type": "markdown",
   "metadata": {
    "collapsed": false
   },
   "source": [
    "We now encode the demands into the graph."
   ]
  },
  {
   "cell_type": "code",
   "execution_count": 20,
   "metadata": {
    "collapsed": true
   },
   "outputs": [],
   "source": [
    "for state in G.nodes():\n",
    "    if state != 'CA':\n",
    "        G.node[state]['demand'] = 1\n",
    "G.node['CA']['demand'] = -48"
   ]
  },
  {
   "cell_type": "markdown",
   "metadata": {
    "collapsed": false
   },
   "source": [
    "We will assign a uniform capacity of 16 to each edge. Since CA has only three adjacent states, this is the smallest possible uniform capacity that allows one to ship all 48 units out of CA. As we have created an undirected graph, and flows have directions, we first convert the graph to a directed graph."
   ]
  },
  {
   "cell_type": "code",
   "execution_count": 21,
   "metadata": {
    "collapsed": false
   },
   "outputs": [],
   "source": [
    "G = nx.DiGraph(G)\n",
    "uniform_capacity = 16\n",
    "for (s1, s2) in G.edges():\n",
    "    G.edge[s1][s2]['capacity'] = uniform_capacity"
   ]
  },
  {
   "cell_type": "markdown",
   "metadata": {},
   "source": [
    "Complete the following function to implement your algorithm to find a flow with demands. Your function should work correctly for any input, not just the movie instance considered here. As always, you are encouraged to define auxiliary functions as needed for clarity."
   ]
  },
  {
   "cell_type": "code",
   "execution_count": 22,
   "metadata": {
    "collapsed": true
   },
   "outputs": [],
   "source": [
    "def flow_with_demands(graph):\n",
    "    newgraph = graph.copy()\n",
    "    newgraph.add_node('source')\n",
    "    newgraph.add_node('terminal')\n",
    "    \n",
    "    for node in graph.nodes():\n",
    "        demand = graph.node[node]['demand']\n",
    "        if demand < 0:\n",
    "            newgraph.add_edge('source',node)\n",
    "            newgraph['source'][node]['capacity'] = -demand\n",
    "        if demand > 0:\n",
    "            newgraph.add_edge(node,'terminal')\n",
    "            newgraph[node]['terminal']['capacity'] = demand\n",
    "    \n",
    "    if nx.maximum_flow(newgraph, 'source', 'terminal')[0] < sum(graph.node[node]['demand'] for node in graph.nodes() if graph.node[node]['demand']>0):\n",
    "            raise nx.NetworkXUnfeasible('NetworkXUnfeasible: No flow satisfying the demands!')\n",
    "            \n",
    "    flow_value, flow = nx.maximum_flow(newgraph,'source','terminal')\n",
    "    flow.pop('source')\n",
    "    flow.pop('terminal')\n",
    "    for i in flow:\n",
    "        try:\n",
    "            flow[i].pop('source')\n",
    "        except:\n",
    "            pass\n",
    "        try:\n",
    "            flow[i].pop('terminal')\n",
    "        except:\n",
    "            continue\n",
    "    \n",
    "    newgraph.remove_node('source')\n",
    "    newgraph.remove_node('terminal')\n",
    "\n",
    "\n",
    "    return flow"
   ]
  },
  {
   "cell_type": "markdown",
   "metadata": {},
   "source": [
    "To verify that your solution is correct, implement a function that computes the total flow into each node (which will be negative for supply nodes)."
   ]
  },
  {
   "cell_type": "code",
   "execution_count": 23,
   "metadata": {
    "collapsed": true
   },
   "outputs": [],
   "source": [
    "def divergence(flow):\n",
    "    network = nx.DiGraph()\n",
    "    edges = [(s1,s2) for s1 in flow.keys() for s2 in flow[s1].keys()]\n",
    "    for (s1,s2) in edges:\n",
    "        network.add_edge(s1,s2)\n",
    "        network.edge[s1][s2]['flow'] = flow[s1][s2]\n",
    "    \n",
    "    for n in network.nodes():\n",
    "        outflow = 0\n",
    "        inflow = 0\n",
    "        for s in network.successors(n):\n",
    "            outflow = outflow + network.edge[n][s]['flow']\n",
    "        for p in network.predecessors(n):\n",
    "            inflow = inflow + network.edge[p][n]['flow']\n",
    "        network.node[n]['demand'] = inflow - outflow\n",
    "    \n",
    "    div = {n : network.node[n]['demand'] for n in network.nodes()}\n",
    "\n",
    "    return div\n",
    "    "
   ]
  },
  {
   "cell_type": "markdown",
   "metadata": {},
   "source": [
    "The following code performs a sanity check on your function (but does not completely confirm correctness)."
   ]
  },
  {
   "cell_type": "code",
   "execution_count": 24,
   "metadata": {
    "collapsed": false
   },
   "outputs": [
    {
     "name": "stdout",
     "output_type": "stream",
     "text": [
      "Flow satisfies all demands: True\n"
     ]
    }
   ],
   "source": [
    "flow = flow_with_demands(G)\n",
    "div = divergence(flow)\n",
    "print \"Flow satisfies all demands:\", all(div[n] == G.node[n]['demand'] for n in G.nodes())"
   ]
  }
 ],
 "metadata": {
  "kernelspec": {
   "display_name": "Python 2",
   "language": "python",
   "name": "python2"
  },
  "language_info": {
   "codemirror_mode": {
    "name": "ipython",
    "version": 2
   },
   "file_extension": ".py",
   "mimetype": "text/x-python",
   "name": "python",
   "nbconvert_exporter": "python",
   "pygments_lexer": "ipython2",
   "version": "2.7.10"
  }
 },
 "nbformat": 4,
 "nbformat_minor": 0
}
